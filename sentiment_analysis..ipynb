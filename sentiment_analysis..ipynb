{
 "cells": [
  {
   "cell_type": "code",
   "execution_count": 1,
   "id": "initial_id",
   "metadata": {
    "collapsed": true,
    "ExecuteTime": {
     "end_time": "2023-10-01T17:22:50.187437400Z",
     "start_time": "2023-10-01T17:22:50.171801500Z"
    }
   },
   "outputs": [
    {
     "name": "stdout",
     "output_type": "stream",
     "text": [
      "hello\n"
     ]
    }
   ],
   "source": [
    "print(\n",
    "    'hello'\n",
    ")"
   ]
  },
  {
   "cell_type": "code",
   "execution_count": 3,
   "outputs": [],
   "source": [
    "from bs4 import  BeautifulSoup as bs\n",
    "import  requests\n",
    "from urllib.request import urlopen"
   ],
   "metadata": {
    "collapsed": false,
    "ExecuteTime": {
     "end_time": "2023-10-01T17:26:09.856271300Z",
     "start_time": "2023-10-01T17:26:09.668755500Z"
    }
   },
   "id": "70b99c71444d979c"
  },
  {
   "cell_type": "markdown",
   "source": [],
   "metadata": {
    "collapsed": false
   },
   "id": "978aab111def94a9"
  },
  {
   "cell_type": "code",
   "execution_count": 2,
   "outputs": [],
   "source": [
    "url_tested  = 'https://www.flipkart.com/apple-iphone-13-midnight-128-gb/p/itmca361aab1c5b0'\n"
   ],
   "metadata": {
    "collapsed": false,
    "ExecuteTime": {
     "end_time": "2023-10-01T17:25:34.674617900Z",
     "start_time": "2023-10-01T17:25:34.662304Z"
    }
   },
   "id": "509b2d60ccf9507f"
  },
  {
   "cell_type": "code",
   "execution_count": 9,
   "outputs": [],
   "source": [
    "url_reviews_tested = requests.get(url_tested)"
   ],
   "metadata": {
    "collapsed": false,
    "ExecuteTime": {
     "end_time": "2023-10-01T17:27:15.265247400Z",
     "start_time": "2023-10-01T17:27:12.694464300Z"
    }
   },
   "id": "a9ecae43bee689ee"
  },
  {
   "cell_type": "code",
   "execution_count": 15,
   "outputs": [],
   "source": [
    "reviews_html = bs(url_reviews_tested.text, 'html.parser')"
   ],
   "metadata": {
    "collapsed": false,
    "ExecuteTime": {
     "end_time": "2023-10-01T17:27:58.908611400Z",
     "start_time": "2023-10-01T17:27:58.832568900Z"
    }
   },
   "id": "286ae09e4b08ffbb"
  },
  {
   "cell_type": "code",
   "execution_count": 39,
   "outputs": [
    {
     "data": {
      "text/plain": "<div class=\"_1AtVbE col-12-12\"><div class=\"_1v1N_F\"><div><div class=\"row _1uIQVx\"><div class=\"_2n4XY2 _1d7nTU col\">Questions and Answers</div><div class=\"col AJmKFS\"><img height=\"20\" src=\"data:image/svg+xml;base64,PHN2ZyB3aWR0aD0iMTYiIGhlaWdodD0iMTYiIHZpZXdCb3g9IjAgMCAxNiAxNiIgeG1sbnM9Imh0dHA6Ly93d3cudzMub3JnLzIwMDAvc3ZnIj48dGl0bGU+R3JvdXAgNTwvdGl0bGU+PGcgZmlsbD0iIzIxMjEyMSIgZmlsbC1ydWxlPSJldmVub2RkIj48cGF0aCBkPSJNMTEuNjE4IDkuODk3bDQuMjI0IDQuMjEyYy4wOTIuMDkuMS4yMy4wMi4zMTJsLTEuNDY0IDEuNDZjLS4wOC4wOC0uMjIyLjA3Mi0uMzE0LS4wMkw5Ljg2OCAxMS42Nk02LjQ4NiAxMC45Yy0yLjQyIDAtNC4zOC0xLjk1NS00LjM4LTQuMzY3IDAtMi40MTMgMS45Ni00LjM3IDQuMzgtNC4zN3M0LjM4IDEuOTU3IDQuMzggNC4zN2MwIDIuNDEyLTEuOTYgNC4zNjgtNC4zOCA0LjM2OG0wLTEwLjgzNEMyLjkwNC4wNjYgMCAyLjk2IDAgNi41MzMgMCAxMC4xMDUgMi45MDQgMTMgNi40ODYgMTNzNi40ODctMi44OTUgNi40ODctNi40NjdjMC0zLjU3Mi0yLjkwNS02LjQ2Ny02LjQ4Ny02LjQ2NyIvPjwvZz48L3N2Zz4=\" width=\"20\"/></div></div><div class=\"\"><div class=\"_1RWRBu\"><div><div class=\"_1xR0kG _3cziW5\"><span class=\"_3PSmm0\">Q:</span><span>I phone 13 vs girlfriend, who is best</span></div><div><div class=\"_2yeNfb\"><span class=\"_3PSmm0\">A:</span><span>iPhone 13</span></div><div class=\"_1OuUqT\"><div class=\"_1nBIs6\"><div class=\"qLyyvN\"><span class=\"_2GEIK5\">Akash Harshwal</span></div><span class=\"OE2Dzi\"><svg class=\"_3V5JvW\" height=\"14\" viewbox=\"0 0 12 12\" width=\"14\" xmlns=\"http://www.w3.org/2000/svg\"><g><circle cx=\"6\" cy=\"6\" fill=\"#878787\" r=\"6\"></circle><path d=\"M3 6l2 2 4-4\" fill=\"#878787\" stroke=\"#FFF\" stroke-width=\"1.5\"></path></g></svg>Certified Buyer</span></div><div class=\"_1O5m0R\"><div class=\"_1LmwT9 _1EEi-k\"><svg class=\"skCrcq\" height=\"15\" width=\"20\" xmlns=\"http://www.w3.org/2000/svg\"><path class=\"_1LIt4y\" d=\"M9.58.006c-.41.043-.794.32-1.01.728-.277.557-2.334 4.693-2.74 5.1-.41.407-.944.6-1.544.6v8.572h7.5c.45 0 .835-.28 1.007-.665 0 0 2.207-6.234 2.207-6.834 0-.6-.47-1.072-1.07-1.072h-3.216c-.6 0-1.07-.535-1.07-1.07 0-.537.835-3.387 1.006-3.944.17-.557-.107-1.157-.664-1.35-.15-.043-.257-.086-.407-.064zM0 6.434v8.572h2.143V6.434H0z\" fill=\"#fff\" fill-rule=\"evenodd\"></path></svg><span class=\"_3c3Px5\">2869</span></div><div class=\"_1LmwT9 pkR4jH _1EEi-k\"><svg class=\"skCrcq pkR4jH\" height=\"15\" width=\"20\" xmlns=\"http://www.w3.org/2000/svg\"><path class=\"_1LIt4y\" d=\"M9.58.006c-.41.043-.794.32-1.01.728-.277.557-2.334 4.693-2.74 5.1-.41.407-.944.6-1.544.6v8.572h7.5c.45 0 .835-.28 1.007-.665 0 0 2.207-6.234 2.207-6.834 0-.6-.47-1.072-1.07-1.072h-3.216c-.6 0-1.07-.535-1.07-1.07 0-.537.835-3.387 1.006-3.944.17-.557-.107-1.157-.664-1.35-.15-.043-.257-.086-.407-.064zM0 6.434v8.572h2.143V6.434H0z\" fill=\"#fff\" fill-rule=\"evenodd\"></path></svg><span class=\"_3c3Px5\">459</span></div></div><div class=\"_2bmov8\"><svg class=\"_2UvOBb\" height=\"11\" viewbox=\"0 0 16 27\" width=\"6\" xmlns=\"http://www.w3.org/2000/svg\"><path class=\"_2aPE6f\" d=\"M16 23.207L6.11 13.161 16 3.093 12.955 0 0 13.161l12.955 13.161z\" fill=\"#fff\"></path></svg><div class=\"_3E8aIl _38dCuf\"><div class=\"_3XCI6U _2b2z-j\"><span>Report Abuse</span></div></div></div></div></div></div></div><div class=\"_1RWRBu\"><div><div class=\"_1xR0kG _3cziW5\"><span class=\"_3PSmm0\">Q:</span><span>I phone 13 is water resistant???</span></div><div><div class=\"_2yeNfb\"><span class=\"_3PSmm0\">A:</span><span>Yes</span></div><div class=\"_1OuUqT\"><div class=\"_1nBIs6\"><div class=\"qLyyvN\"><span class=\"_2GEIK5\">Abhishek pratap   Singh</span></div><span class=\"OE2Dzi\"><svg class=\"_3V5JvW\" height=\"14\" viewbox=\"0 0 12 12\" width=\"14\" xmlns=\"http://www.w3.org/2000/svg\"><g><circle cx=\"6\" cy=\"6\" fill=\"#878787\" r=\"6\"></circle><path d=\"M3 6l2 2 4-4\" fill=\"#878787\" stroke=\"#FFF\" stroke-width=\"1.5\"></path></g></svg>Certified Buyer</span></div><div class=\"_1O5m0R\"><div class=\"_1LmwT9 _1EEi-k\"><svg class=\"skCrcq\" height=\"15\" width=\"20\" xmlns=\"http://www.w3.org/2000/svg\"><path class=\"_1LIt4y\" d=\"M9.58.006c-.41.043-.794.32-1.01.728-.277.557-2.334 4.693-2.74 5.1-.41.407-.944.6-1.544.6v8.572h7.5c.45 0 .835-.28 1.007-.665 0 0 2.207-6.234 2.207-6.834 0-.6-.47-1.072-1.07-1.072h-3.216c-.6 0-1.07-.535-1.07-1.07 0-.537.835-3.387 1.006-3.944.17-.557-.107-1.157-.664-1.35-.15-.043-.257-.086-.407-.064zM0 6.434v8.572h2.143V6.434H0z\" fill=\"#fff\" fill-rule=\"evenodd\"></path></svg><span class=\"_3c3Px5\">191</span></div><div class=\"_1LmwT9 pkR4jH _1EEi-k\"><svg class=\"skCrcq pkR4jH\" height=\"15\" width=\"20\" xmlns=\"http://www.w3.org/2000/svg\"><path class=\"_1LIt4y\" d=\"M9.58.006c-.41.043-.794.32-1.01.728-.277.557-2.334 4.693-2.74 5.1-.41.407-.944.6-1.544.6v8.572h7.5c.45 0 .835-.28 1.007-.665 0 0 2.207-6.234 2.207-6.834 0-.6-.47-1.072-1.07-1.072h-3.216c-.6 0-1.07-.535-1.07-1.07 0-.537.835-3.387 1.006-3.944.17-.557-.107-1.157-.664-1.35-.15-.043-.257-.086-.407-.064zM0 6.434v8.572h2.143V6.434H0z\" fill=\"#fff\" fill-rule=\"evenodd\"></path></svg><span class=\"_3c3Px5\">33</span></div></div><div class=\"_2bmov8\"><svg class=\"_2UvOBb\" height=\"11\" viewbox=\"0 0 16 27\" width=\"6\" xmlns=\"http://www.w3.org/2000/svg\"><path class=\"_2aPE6f\" d=\"M16 23.207L6.11 13.161 16 3.093 12.955 0 0 13.161l12.955 13.161z\" fill=\"#fff\"></path></svg><div class=\"_3E8aIl _38dCuf\"><div class=\"_3XCI6U _2b2z-j\"><span>Report Abuse</span></div></div></div></div></div><a class=\"nC1FHF\" href=\"#\">Read other answers</a></div></div><div class=\"_1RWRBu\"><div><div class=\"_1xR0kG _3cziW5\"><span class=\"_3PSmm0\">Q:</span><span>Can i take selfie under swimming pool</span></div><div><div class=\"_2yeNfb\"><span class=\"_3PSmm0\">A:</span><span>Yes, you can take. It has IP68 dust/water resistant (up to 6m for 30 mins).</span></div><div class=\"_1OuUqT\"><div class=\"_1nBIs6\"><div class=\"qLyyvN\"><span class=\"_2GEIK5\">Chandru Ramasamy</span></div><span class=\"OE2Dzi\"><svg class=\"_3V5JvW\" height=\"14\" viewbox=\"0 0 12 12\" width=\"14\" xmlns=\"http://www.w3.org/2000/svg\"><g><circle cx=\"6\" cy=\"6\" fill=\"#878787\" r=\"6\"></circle><path d=\"M3 6l2 2 4-4\" fill=\"#878787\" stroke=\"#FFF\" stroke-width=\"1.5\"></path></g></svg>Certified Buyer</span></div><div class=\"_1O5m0R\"><div class=\"_1LmwT9 _1EEi-k\"><svg class=\"skCrcq\" height=\"15\" width=\"20\" xmlns=\"http://www.w3.org/2000/svg\"><path class=\"_1LIt4y\" d=\"M9.58.006c-.41.043-.794.32-1.01.728-.277.557-2.334 4.693-2.74 5.1-.41.407-.944.6-1.544.6v8.572h7.5c.45 0 .835-.28 1.007-.665 0 0 2.207-6.234 2.207-6.834 0-.6-.47-1.072-1.07-1.072h-3.216c-.6 0-1.07-.535-1.07-1.07 0-.537.835-3.387 1.006-3.944.17-.557-.107-1.157-.664-1.35-.15-.043-.257-.086-.407-.064zM0 6.434v8.572h2.143V6.434H0z\" fill=\"#fff\" fill-rule=\"evenodd\"></path></svg><span class=\"_3c3Px5\">974</span></div><div class=\"_1LmwT9 pkR4jH _1EEi-k\"><svg class=\"skCrcq pkR4jH\" height=\"15\" width=\"20\" xmlns=\"http://www.w3.org/2000/svg\"><path class=\"_1LIt4y\" d=\"M9.58.006c-.41.043-.794.32-1.01.728-.277.557-2.334 4.693-2.74 5.1-.41.407-.944.6-1.544.6v8.572h7.5c.45 0 .835-.28 1.007-.665 0 0 2.207-6.234 2.207-6.834 0-.6-.47-1.072-1.07-1.072h-3.216c-.6 0-1.07-.535-1.07-1.07 0-.537.835-3.387 1.006-3.944.17-.557-.107-1.157-.664-1.35-.15-.043-.257-.086-.407-.064zM0 6.434v8.572h2.143V6.434H0z\" fill=\"#fff\" fill-rule=\"evenodd\"></path></svg><span class=\"_3c3Px5\">224</span></div></div><div class=\"_2bmov8\"><svg class=\"_2UvOBb\" height=\"11\" viewbox=\"0 0 16 27\" width=\"6\" xmlns=\"http://www.w3.org/2000/svg\"><path class=\"_2aPE6f\" d=\"M16 23.207L6.11 13.161 16 3.093 12.955 0 0 13.161l12.955 13.161z\" fill=\"#fff\"></path></svg><div class=\"_3E8aIl _38dCuf\"><div class=\"_3XCI6U _2b2z-j\"><span>Report Abuse</span></div></div></div></div></div></div></div><div class=\"_1RWRBu _36IZKv\"><div><div class=\"_1xR0kG _3cziW5\"><span class=\"_3PSmm0\">Q:</span><span>Can i play bgmi hdr mode</span></div><div><div class=\"_2yeNfb\"><span class=\"_3PSmm0\">A:</span><span>Yes you can also play in UHD mode as well</span></div><div class=\"_1OuUqT\"><div class=\"_1nBIs6\"><div class=\"qLyyvN\"><span class=\"_2GEIK5\">Anonymous</span></div><span class=\"OE2Dzi\"><svg class=\"_3V5JvW\" height=\"14\" viewbox=\"0 0 12 12\" width=\"14\" xmlns=\"http://www.w3.org/2000/svg\"><g><circle cx=\"6\" cy=\"6\" fill=\"#878787\" r=\"6\"></circle><path d=\"M3 6l2 2 4-4\" fill=\"#878787\" stroke=\"#FFF\" stroke-width=\"1.5\"></path></g></svg>Certified Buyer</span></div><div class=\"_1O5m0R\"><div class=\"_1LmwT9 _1EEi-k\"><svg class=\"skCrcq\" height=\"15\" width=\"20\" xmlns=\"http://www.w3.org/2000/svg\"><path class=\"_1LIt4y\" d=\"M9.58.006c-.41.043-.794.32-1.01.728-.277.557-2.334 4.693-2.74 5.1-.41.407-.944.6-1.544.6v8.572h7.5c.45 0 .835-.28 1.007-.665 0 0 2.207-6.234 2.207-6.834 0-.6-.47-1.072-1.07-1.072h-3.216c-.6 0-1.07-.535-1.07-1.07 0-.537.835-3.387 1.006-3.944.17-.557-.107-1.157-.664-1.35-.15-.043-.257-.086-.407-.064zM0 6.434v8.572h2.143V6.434H0z\" fill=\"#fff\" fill-rule=\"evenodd\"></path></svg><span class=\"_3c3Px5\">47</span></div><div class=\"_1LmwT9 pkR4jH _1EEi-k\"><svg class=\"skCrcq pkR4jH\" height=\"15\" width=\"20\" xmlns=\"http://www.w3.org/2000/svg\"><path class=\"_1LIt4y\" d=\"M9.58.006c-.41.043-.794.32-1.01.728-.277.557-2.334 4.693-2.74 5.1-.41.407-.944.6-1.544.6v8.572h7.5c.45 0 .835-.28 1.007-.665 0 0 2.207-6.234 2.207-6.834 0-.6-.47-1.072-1.07-1.072h-3.216c-.6 0-1.07-.535-1.07-1.07 0-.537.835-3.387 1.006-3.944.17-.557-.107-1.157-.664-1.35-.15-.043-.257-.086-.407-.064zM0 6.434v8.572h2.143V6.434H0z\" fill=\"#fff\" fill-rule=\"evenodd\"></path></svg><span class=\"_3c3Px5\">7</span></div></div><div class=\"_2bmov8\"><svg class=\"_2UvOBb\" height=\"11\" viewbox=\"0 0 16 27\" width=\"6\" xmlns=\"http://www.w3.org/2000/svg\"><path class=\"_2aPE6f\" d=\"M16 23.207L6.11 13.161 16 3.093 12.955 0 0 13.161l12.955 13.161z\" fill=\"#fff\"></path></svg><div class=\"_3E8aIl _38dCuf\"><div class=\"_3XCI6U _2b2z-j\"><span>Report Abuse</span></div></div></div></div></div></div></div><div class=\"_1RWRBu _36IZKv\"><div><div class=\"_1xR0kG _3cziW5\"><span class=\"_3PSmm0\">Q:</span><span>iPhone 12 battery backup is good or iPhone 13 ?</span></div><div><div class=\"_2yeNfb\"><span class=\"_3PSmm0\">A:</span><span>Iphone 13</span></div><div class=\"_1OuUqT\"><div class=\"_1nBIs6\"><div class=\"qLyyvN\"><span class=\"_2GEIK5\">Laxmipada Pradhan</span></div><span class=\"OE2Dzi\"><svg class=\"_3V5JvW\" height=\"14\" viewbox=\"0 0 12 12\" width=\"14\" xmlns=\"http://www.w3.org/2000/svg\"><g><circle cx=\"6\" cy=\"6\" fill=\"#878787\" r=\"6\"></circle><path d=\"M3 6l2 2 4-4\" fill=\"#878787\" stroke=\"#FFF\" stroke-width=\"1.5\"></path></g></svg>Certified Buyer</span></div><div class=\"_1O5m0R\"><div class=\"_1LmwT9 _1EEi-k\"><svg class=\"skCrcq\" height=\"15\" width=\"20\" xmlns=\"http://www.w3.org/2000/svg\"><path class=\"_1LIt4y\" d=\"M9.58.006c-.41.043-.794.32-1.01.728-.277.557-2.334 4.693-2.74 5.1-.41.407-.944.6-1.544.6v8.572h7.5c.45 0 .835-.28 1.007-.665 0 0 2.207-6.234 2.207-6.834 0-.6-.47-1.072-1.07-1.072h-3.216c-.6 0-1.07-.535-1.07-1.07 0-.537.835-3.387 1.006-3.944.17-.557-.107-1.157-.664-1.35-.15-.043-.257-.086-.407-.064zM0 6.434v8.572h2.143V6.434H0z\" fill=\"#fff\" fill-rule=\"evenodd\"></path></svg><span class=\"_3c3Px5\">1168</span></div><div class=\"_1LmwT9 pkR4jH _1EEi-k\"><svg class=\"skCrcq pkR4jH\" height=\"15\" width=\"20\" xmlns=\"http://www.w3.org/2000/svg\"><path class=\"_1LIt4y\" d=\"M9.58.006c-.41.043-.794.32-1.01.728-.277.557-2.334 4.693-2.74 5.1-.41.407-.944.6-1.544.6v8.572h7.5c.45 0 .835-.28 1.007-.665 0 0 2.207-6.234 2.207-6.834 0-.6-.47-1.072-1.07-1.072h-3.216c-.6 0-1.07-.535-1.07-1.07 0-.537.835-3.387 1.006-3.944.17-.557-.107-1.157-.664-1.35-.15-.043-.257-.086-.407-.064zM0 6.434v8.572h2.143V6.434H0z\" fill=\"#fff\" fill-rule=\"evenodd\"></path></svg><span class=\"_3c3Px5\">320</span></div></div><div class=\"_2bmov8\"><svg class=\"_2UvOBb\" height=\"11\" viewbox=\"0 0 16 27\" width=\"6\" xmlns=\"http://www.w3.org/2000/svg\"><path class=\"_2aPE6f\" d=\"M16 23.207L6.11 13.161 16 3.093 12.955 0 0 13.161l12.955 13.161z\" fill=\"#fff\"></path></svg><div class=\"_3E8aIl _38dCuf\"><div class=\"_3XCI6U _2b2z-j\"><span>Report Abuse</span></div></div></div></div></div><a class=\"nC1FHF\" href=\"#\">Read other answers</a></div></div><div class=\"_1RWRBu _36IZKv\"><div><div class=\"_1xR0kG _3cziW5\"><span class=\"_3PSmm0\">Q:</span><span>Can we use jio sim?</span></div><div><div class=\"_2yeNfb\"><span class=\"_3PSmm0\">A:</span><span>Yes you can i am using jio sim as well</span></div><div class=\"_1OuUqT\"><div class=\"_1nBIs6\"><div class=\"qLyyvN\"><span class=\"_2GEIK5\">Shaizada Navi</span></div><span class=\"OE2Dzi\"><svg class=\"_3V5JvW\" height=\"14\" viewbox=\"0 0 12 12\" width=\"14\" xmlns=\"http://www.w3.org/2000/svg\"><g><circle cx=\"6\" cy=\"6\" fill=\"#878787\" r=\"6\"></circle><path d=\"M3 6l2 2 4-4\" fill=\"#878787\" stroke=\"#FFF\" stroke-width=\"1.5\"></path></g></svg>Certified Buyer</span></div><div class=\"_1O5m0R\"><div class=\"_1LmwT9 _1EEi-k\"><svg class=\"skCrcq\" height=\"15\" width=\"20\" xmlns=\"http://www.w3.org/2000/svg\"><path class=\"_1LIt4y\" d=\"M9.58.006c-.41.043-.794.32-1.01.728-.277.557-2.334 4.693-2.74 5.1-.41.407-.944.6-1.544.6v8.572h7.5c.45 0 .835-.28 1.007-.665 0 0 2.207-6.234 2.207-6.834 0-.6-.47-1.072-1.07-1.072h-3.216c-.6 0-1.07-.535-1.07-1.07 0-.537.835-3.387 1.006-3.944.17-.557-.107-1.157-.664-1.35-.15-.043-.257-.086-.407-.064zM0 6.434v8.572h2.143V6.434H0z\" fill=\"#fff\" fill-rule=\"evenodd\"></path></svg><span class=\"_3c3Px5\">58</span></div><div class=\"_1LmwT9 pkR4jH _1EEi-k\"><svg class=\"skCrcq pkR4jH\" height=\"15\" width=\"20\" xmlns=\"http://www.w3.org/2000/svg\"><path class=\"_1LIt4y\" d=\"M9.58.006c-.41.043-.794.32-1.01.728-.277.557-2.334 4.693-2.74 5.1-.41.407-.944.6-1.544.6v8.572h7.5c.45 0 .835-.28 1.007-.665 0 0 2.207-6.234 2.207-6.834 0-.6-.47-1.072-1.07-1.072h-3.216c-.6 0-1.07-.535-1.07-1.07 0-.537.835-3.387 1.006-3.944.17-.557-.107-1.157-.664-1.35-.15-.043-.257-.086-.407-.064zM0 6.434v8.572h2.143V6.434H0z\" fill=\"#fff\" fill-rule=\"evenodd\"></path></svg><span class=\"_3c3Px5\">10</span></div></div><div class=\"_2bmov8\"><svg class=\"_2UvOBb\" height=\"11\" viewbox=\"0 0 16 27\" width=\"6\" xmlns=\"http://www.w3.org/2000/svg\"><path class=\"_2aPE6f\" d=\"M16 23.207L6.11 13.161 16 3.093 12.955 0 0 13.161l12.955 13.161z\" fill=\"#fff\"></path></svg><div class=\"_3E8aIl _38dCuf\"><div class=\"_3XCI6U _2b2z-j\"><span>Report Abuse</span></div></div></div></div></div></div></div><div class=\"_1RWRBu _36IZKv\"><div><div class=\"_1xR0kG _3cziW5\"><span class=\"_3PSmm0\">Q:</span><span>Is it will come with temper glass on screen ?</span></div><div><div class=\"_2yeNfb\"><span class=\"_3PSmm0\">A:</span><span>No , You have to purchase the tempered glass separately. Although the display glass is made of ceramic shield, so it should withstand for sometime. However, tempered glass is highly recommend</span></div><div class=\"_1OuUqT\"><div class=\"_1nBIs6\"><div class=\"qLyyvN\"><span class=\"_2GEIK5\">Adhithiyaram</span></div><span class=\"OE2Dzi\"><svg class=\"_3V5JvW\" height=\"14\" viewbox=\"0 0 12 12\" width=\"14\" xmlns=\"http://www.w3.org/2000/svg\"><g><circle cx=\"6\" cy=\"6\" fill=\"#878787\" r=\"6\"></circle><path d=\"M3 6l2 2 4-4\" fill=\"#878787\" stroke=\"#FFF\" stroke-width=\"1.5\"></path></g></svg>Certified Buyer</span></div><div class=\"_1O5m0R\"><div class=\"_1LmwT9 _1EEi-k\"><svg class=\"skCrcq\" height=\"15\" width=\"20\" xmlns=\"http://www.w3.org/2000/svg\"><path class=\"_1LIt4y\" d=\"M9.58.006c-.41.043-.794.32-1.01.728-.277.557-2.334 4.693-2.74 5.1-.41.407-.944.6-1.544.6v8.572h7.5c.45 0 .835-.28 1.007-.665 0 0 2.207-6.234 2.207-6.834 0-.6-.47-1.072-1.07-1.072h-3.216c-.6 0-1.07-.535-1.07-1.07 0-.537.835-3.387 1.006-3.944.17-.557-.107-1.157-.664-1.35-.15-.043-.257-.086-.407-.064zM0 6.434v8.572h2.143V6.434H0z\" fill=\"#fff\" fill-rule=\"evenodd\"></path></svg><span class=\"_3c3Px5\">57</span></div><div class=\"_1LmwT9 pkR4jH _1EEi-k\"><svg class=\"skCrcq pkR4jH\" height=\"15\" width=\"20\" xmlns=\"http://www.w3.org/2000/svg\"><path class=\"_1LIt4y\" d=\"M9.58.006c-.41.043-.794.32-1.01.728-.277.557-2.334 4.693-2.74 5.1-.41.407-.944.6-1.544.6v8.572h7.5c.45 0 .835-.28 1.007-.665 0 0 2.207-6.234 2.207-6.834 0-.6-.47-1.072-1.07-1.072h-3.216c-.6 0-1.07-.535-1.07-1.07 0-.537.835-3.387 1.006-3.944.17-.557-.107-1.157-.664-1.35-.15-.043-.257-.086-.407-.064zM0 6.434v8.572h2.143V6.434H0z\" fill=\"#fff\" fill-rule=\"evenodd\"></path></svg><span class=\"_3c3Px5\">9</span></div></div><div class=\"_2bmov8\"><svg class=\"_2UvOBb\" height=\"11\" viewbox=\"0 0 16 27\" width=\"6\" xmlns=\"http://www.w3.org/2000/svg\"><path class=\"_2aPE6f\" d=\"M16 23.207L6.11 13.161 16 3.093 12.955 0 0 13.161l12.955 13.161z\" fill=\"#fff\"></path></svg><div class=\"_3E8aIl _38dCuf\"><div class=\"_3XCI6U _2b2z-j\"><span>Report Abuse</span></div></div></div></div></div></div></div><div class=\"_1RWRBu _36IZKv\"><div><div class=\"_1xR0kG _3cziW5\"><span class=\"_3PSmm0\">Q:</span><span>Difference in iphone 13 from iphone 12?</span></div><div><div class=\"_2yeNfb\"><span class=\"_3PSmm0\">A:</span><span>Major difference is in its camera module and slighter notch and the battery backup, processor</span></div><div class=\"_1OuUqT\"><div class=\"_1nBIs6\"><div class=\"qLyyvN\"><span class=\"_2GEIK5\">Bandi Yunus Parvez</span></div><span class=\"OE2Dzi\"><svg class=\"_3V5JvW\" height=\"14\" viewbox=\"0 0 12 12\" width=\"14\" xmlns=\"http://www.w3.org/2000/svg\"><g><circle cx=\"6\" cy=\"6\" fill=\"#878787\" r=\"6\"></circle><path d=\"M3 6l2 2 4-4\" fill=\"#878787\" stroke=\"#FFF\" stroke-width=\"1.5\"></path></g></svg>Certified Buyer</span></div><div class=\"_1O5m0R\"><div class=\"_1LmwT9 _1EEi-k\"><svg class=\"skCrcq\" height=\"15\" width=\"20\" xmlns=\"http://www.w3.org/2000/svg\"><path class=\"_1LIt4y\" d=\"M9.58.006c-.41.043-.794.32-1.01.728-.277.557-2.334 4.693-2.74 5.1-.41.407-.944.6-1.544.6v8.572h7.5c.45 0 .835-.28 1.007-.665 0 0 2.207-6.234 2.207-6.834 0-.6-.47-1.072-1.07-1.072h-3.216c-.6 0-1.07-.535-1.07-1.07 0-.537.835-3.387 1.006-3.944.17-.557-.107-1.157-.664-1.35-.15-.043-.257-.086-.407-.064zM0 6.434v8.572h2.143V6.434H0z\" fill=\"#fff\" fill-rule=\"evenodd\"></path></svg><span class=\"_3c3Px5\">38</span></div><div class=\"_1LmwT9 pkR4jH _1EEi-k\"><svg class=\"skCrcq pkR4jH\" height=\"15\" width=\"20\" xmlns=\"http://www.w3.org/2000/svg\"><path class=\"_1LIt4y\" d=\"M9.58.006c-.41.043-.794.32-1.01.728-.277.557-2.334 4.693-2.74 5.1-.41.407-.944.6-1.544.6v8.572h7.5c.45 0 .835-.28 1.007-.665 0 0 2.207-6.234 2.207-6.834 0-.6-.47-1.072-1.07-1.072h-3.216c-.6 0-1.07-.535-1.07-1.07 0-.537.835-3.387 1.006-3.944.17-.557-.107-1.157-.664-1.35-.15-.043-.257-.086-.407-.064zM0 6.434v8.572h2.143V6.434H0z\" fill=\"#fff\" fill-rule=\"evenodd\"></path></svg><span class=\"_3c3Px5\">5</span></div></div><div class=\"_2bmov8\"><svg class=\"_2UvOBb\" height=\"11\" viewbox=\"0 0 16 27\" width=\"6\" xmlns=\"http://www.w3.org/2000/svg\"><path class=\"_2aPE6f\" d=\"M16 23.207L6.11 13.161 16 3.093 12.955 0 0 13.161l12.955 13.161z\" fill=\"#fff\"></path></svg><div class=\"_3E8aIl _38dCuf\"><div class=\"_3XCI6U _2b2z-j\"><span>Report Abuse</span></div></div></div></div></div></div></div><div class=\"_1RWRBu _36IZKv\"><div><div class=\"_1xR0kG _3cziW5\"><span class=\"_3PSmm0\">Q:</span><span>Is its screen breakable</span></div><div><div class=\"_2yeNfb\"><span class=\"_3PSmm0\">A:</span><span>It isn't breakable in normal slips or falls. It has got the toughest glass in any smartphone it seems. But other than that, it will. Glass is glass and has its limits.</span></div><div class=\"_1OuUqT\"><div class=\"_1nBIs6\"><div class=\"qLyyvN\"><span class=\"_2GEIK5\">Rajaneesh Vijayan</span></div><span class=\"OE2Dzi\"><svg class=\"_3V5JvW\" height=\"14\" viewbox=\"0 0 12 12\" width=\"14\" xmlns=\"http://www.w3.org/2000/svg\"><g><circle cx=\"6\" cy=\"6\" fill=\"#878787\" r=\"6\"></circle><path d=\"M3 6l2 2 4-4\" fill=\"#878787\" stroke=\"#FFF\" stroke-width=\"1.5\"></path></g></svg>Certified Buyer</span></div><div class=\"_1O5m0R\"><div class=\"_1LmwT9 _1EEi-k\"><svg class=\"skCrcq\" height=\"15\" width=\"20\" xmlns=\"http://www.w3.org/2000/svg\"><path class=\"_1LIt4y\" d=\"M9.58.006c-.41.043-.794.32-1.01.728-.277.557-2.334 4.693-2.74 5.1-.41.407-.944.6-1.544.6v8.572h7.5c.45 0 .835-.28 1.007-.665 0 0 2.207-6.234 2.207-6.834 0-.6-.47-1.072-1.07-1.072h-3.216c-.6 0-1.07-.535-1.07-1.07 0-.537.835-3.387 1.006-3.944.17-.557-.107-1.157-.664-1.35-.15-.043-.257-.086-.407-.064zM0 6.434v8.572h2.143V6.434H0z\" fill=\"#fff\" fill-rule=\"evenodd\"></path></svg><span class=\"_3c3Px5\">220</span></div><div class=\"_1LmwT9 pkR4jH _1EEi-k\"><svg class=\"skCrcq pkR4jH\" height=\"15\" width=\"20\" xmlns=\"http://www.w3.org/2000/svg\"><path class=\"_1LIt4y\" d=\"M9.58.006c-.41.043-.794.32-1.01.728-.277.557-2.334 4.693-2.74 5.1-.41.407-.944.6-1.544.6v8.572h7.5c.45 0 .835-.28 1.007-.665 0 0 2.207-6.234 2.207-6.834 0-.6-.47-1.072-1.07-1.072h-3.216c-.6 0-1.07-.535-1.07-1.07 0-.537.835-3.387 1.006-3.944.17-.557-.107-1.157-.664-1.35-.15-.043-.257-.086-.407-.064zM0 6.434v8.572h2.143V6.434H0z\" fill=\"#fff\" fill-rule=\"evenodd\"></path></svg><span class=\"_3c3Px5\">54</span></div></div><div class=\"_2bmov8\"><svg class=\"_2UvOBb\" height=\"11\" viewbox=\"0 0 16 27\" width=\"6\" xmlns=\"http://www.w3.org/2000/svg\"><path class=\"_2aPE6f\" d=\"M16 23.207L6.11 13.161 16 3.093 12.955 0 0 13.161l12.955 13.161z\" fill=\"#fff\"></path></svg><div class=\"_3E8aIl _38dCuf\"><div class=\"_3XCI6U _2b2z-j\"><span>Report Abuse</span></div></div></div></div></div></div></div><div class=\"_1RWRBu _36IZKv\"><div><div class=\"_1xR0kG _3cziW5\"><span class=\"_3PSmm0\">Q:</span><span>Bluetooth are present</span></div><div><div class=\"_2yeNfb\"><span class=\"_3PSmm0\">A:</span><span>Yes</span></div><div class=\"_1OuUqT\"><div class=\"_1nBIs6\"><div class=\"qLyyvN\"><span class=\"_2GEIK5\">Shishir Madaan</span></div><span class=\"OE2Dzi\"><svg class=\"_3V5JvW\" height=\"14\" viewbox=\"0 0 12 12\" width=\"14\" xmlns=\"http://www.w3.org/2000/svg\"><g><circle cx=\"6\" cy=\"6\" fill=\"#878787\" r=\"6\"></circle><path d=\"M3 6l2 2 4-4\" fill=\"#878787\" stroke=\"#FFF\" stroke-width=\"1.5\"></path></g></svg>Certified Buyer</span></div><div class=\"_1O5m0R\"><div class=\"_1LmwT9 _1EEi-k\"><svg class=\"skCrcq\" height=\"15\" width=\"20\" xmlns=\"http://www.w3.org/2000/svg\"><path class=\"_1LIt4y\" d=\"M9.58.006c-.41.043-.794.32-1.01.728-.277.557-2.334 4.693-2.74 5.1-.41.407-.944.6-1.544.6v8.572h7.5c.45 0 .835-.28 1.007-.665 0 0 2.207-6.234 2.207-6.834 0-.6-.47-1.072-1.07-1.072h-3.216c-.6 0-1.07-.535-1.07-1.07 0-.537.835-3.387 1.006-3.944.17-.557-.107-1.157-.664-1.35-.15-.043-.257-.086-.407-.064zM0 6.434v8.572h2.143V6.434H0z\" fill=\"#fff\" fill-rule=\"evenodd\"></path></svg><span class=\"_3c3Px5\">36</span></div><div class=\"_1LmwT9 pkR4jH _1EEi-k\"><svg class=\"skCrcq pkR4jH\" height=\"15\" width=\"20\" xmlns=\"http://www.w3.org/2000/svg\"><path class=\"_1LIt4y\" d=\"M9.58.006c-.41.043-.794.32-1.01.728-.277.557-2.334 4.693-2.74 5.1-.41.407-.944.6-1.544.6v8.572h7.5c.45 0 .835-.28 1.007-.665 0 0 2.207-6.234 2.207-6.834 0-.6-.47-1.072-1.07-1.072h-3.216c-.6 0-1.07-.535-1.07-1.07 0-.537.835-3.387 1.006-3.944.17-.557-.107-1.157-.664-1.35-.15-.043-.257-.086-.407-.064zM0 6.434v8.572h2.143V6.434H0z\" fill=\"#fff\" fill-rule=\"evenodd\"></path></svg><span class=\"_3c3Px5\">6</span></div></div><div class=\"_2bmov8\"><svg class=\"_2UvOBb\" height=\"11\" viewbox=\"0 0 16 27\" width=\"6\" xmlns=\"http://www.w3.org/2000/svg\"><path class=\"_2aPE6f\" d=\"M16 23.207L6.11 13.161 16 3.093 12.955 0 0 13.161l12.955 13.161z\" fill=\"#fff\"></path></svg><div class=\"_3E8aIl _38dCuf\"><div class=\"_3XCI6U _2b2z-j\"><span>Report Abuse</span></div></div></div></div></div><a class=\"nC1FHF\" href=\"#\">Read other answers</a></div></div></div><div class=\"_1bh0RH\"><a class=\"_2KpZ6l dVBe_p\" href=\"/apple-iphone-13-midnight-128-gb/product-questions/itmca361aab1c5b0?pid=MOBG6VF5Q82T3XRS\">All questions</a><span class=\"q_elos\">+</span></div></div></div></div>"
     },
     "execution_count": 39,
     "metadata": {},
     "output_type": "execute_result"
    }
   ],
   "source": [
    "reviews_html.find_all('div' , {'class' : '_1AtVbE col-12-12'})[17]"
   ],
   "metadata": {
    "collapsed": false,
    "ExecuteTime": {
     "end_time": "2023-10-01T17:40:50.243804100Z",
     "start_time": "2023-10-01T17:40:50.196745600Z"
    }
   },
   "id": "814d45a457f85edc"
  },
  {
   "cell_type": "code",
   "execution_count": null,
   "outputs": [],
   "source": [],
   "metadata": {
    "collapsed": false
   },
   "id": "9420f144bbcd27ee"
  }
 ],
 "metadata": {
  "kernelspec": {
   "display_name": "Python 3",
   "language": "python",
   "name": "python3"
  },
  "language_info": {
   "codemirror_mode": {
    "name": "ipython",
    "version": 2
   },
   "file_extension": ".py",
   "mimetype": "text/x-python",
   "name": "python",
   "nbconvert_exporter": "python",
   "pygments_lexer": "ipython2",
   "version": "2.7.6"
  }
 },
 "nbformat": 4,
 "nbformat_minor": 5
}
